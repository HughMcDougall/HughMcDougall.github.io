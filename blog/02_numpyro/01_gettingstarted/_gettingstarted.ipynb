{
 "cells": [
  {
   "cell_type": "markdown",
   "id": "28b3f2cb-d708-426f-a680-afa2080daf8d",
   "metadata": {},
   "source": [
    "# Getting Started\n",
    "\n",
    "This tutorial covers the bare minimum basics of working with NumPyro: how to install, run and how to apply use it to perform MCMC on a simple model. The central theme of this article is to keep things stripped down and simple for a user who is brand-new to NumPyro or Bayesian modeling in general. If you're already a bit better equipped than this, you might consider Dan Foreman Mackey's [great tutorial](https://dfm.io/posts/intro-to-numpyro/) for applying NumPyro to astronomy, or head straight to the NumPyro documentation and its various [(broadly distributed) examples](https://num.pyro.ai/en/stable/)."
   ]
  },
  {
   "cell_type": "markdown",
   "id": "bbba9e63-be68-46cb-b921-e4c69e243cd2",
   "metadata": {},
   "source": [
    "## Installing NumPyro\n",
    "\n",
    "If you're installing NumPyro for the first time with absolutely no prior knowledge, you'll find you have the easiest time if you're working on mac or some sort of linux system. If you're working on a windows machine, try using the [Windows Subsystem for Linux](https://learn.microsoft.com/en-us/windows/wsl/install) which will let you run all sorts of packages and software that don't play nicely with base windows. In this guide, I'll also strongly advise using a [conda](https://docs.conda.io/en/latest/) environment or something similar (e.g. [venv](https://docs.python.org/3/library/venv.html)). NumPyro and its dependencies can have significant changes between versions, particularly when using external modules like JAXNS's nested sampling, and so good version control is a must have.\n",
    "\n",
    "**Setting Up an Environment**\n",
    "\n",
    "Assuming you're running with conda on linux or wsl, the first item on the to-do list is making an environment to install all of our NumPyro packages to:\n",
    "\n",
    "```\n",
    "    conda create -n numpyroenv\"\n",
    "    conda install python\n",
    "    conda install pip\n",
    "```\n",
    "\n",
    "And then activate this environment with:\n",
    "\n",
    "```\n",
    "    conda activate numpyroenv\n",
    "```\n",
    "\n",
    "You now have a conda environment running which safely contains all of the packages we'll need. `conda list` or `pip list` will show you everything you've got installed at the moment, including version numbers. If something is going wrong, this is a good place to start looking.\n",
    "\n",
    "**Installing NumPyro & Its Dependencies**\n",
    "\n",
    "First, install basic python packages that you'll need to do most anything with NumPyro. Note that many tutorials use the packages `corner` or `arviz` instead of `chainconsumer` for examining results.\n",
    "\n",
    "```\n",
    "    pip install numpy matplotlib chainconsumer\n",
    "```\n",
    "\n",
    "Now, install JAX, numpyro and their associated packages\n",
    "\n",
    "```\n",
    "    pip install jax jaxlib jaxopt\n",
    "    pip install numpyro\n",
    "```\n",
    "\n",
    "If you're planning on using nested sampling with numpyro, you'll need the following. Note that we're installing a *specific version of jaxns*. At time of writing, NumPyro is not compatible with the versions of JAXNS 2.1.0 or greater.\n",
    "\n",
    "```\n",
    "    pip install etils tensorflow_probability\n",
    "    pip install jaxns==2.0.1\n",
    "```\n",
    "\n",
    "_Note: Chain Consumer recently had its interface updated, making some of the corner-plot generation outdated. To match the examples in these tutorials, install with `pip install chainconsumer==0.34.0`_"
   ]
  },
  {
   "cell_type": "markdown",
   "id": "2d118039-8fd7-4497-aa7f-df850bcaa8c4",
   "metadata": {},
   "source": [
    "## Your First Model\n",
    "\n",
    "In this section, we'll show how to use NumPyro to perform a simple linear regression using Bayesian MCMC on some simulated data. First, we need import all of the various packages we need. The second chunk of imports are just for plotting & doing maths, and aren't core to using NumPyro."
   ]
  },
  {
   "cell_type": "code",
   "execution_count": 1,
   "id": "e63762cc-22dd-46d7-a058-ac862bc8964d",
   "metadata": {},
   "outputs": [],
   "source": [
    "# JAX / NumPyro Imports\n",
    "import jax, numpyro\n",
    "import jax.numpy as jnp\n",
    "\n",
    "# Plotting & Utilities\n",
    "import matplotlib.pyplot as plt\n",
    "import numpy as np\n",
    "import chainconsumer"
   ]
  },
  {
   "cell_type": "markdown",
   "id": "abc55248-20d9-4332-9e24-57391ea421f8",
   "metadata": {},
   "source": [
    "Now the fun part: we'll use NumPy to hack together some data akin to the real world measurements you would apply NumPyro to. We'll both generate and fit according to a simple linear model:\n",
    "\n",
    "$$\n",
    "    y(x) = m\\cdot x + c\n",
    "$$\n",
    "\n",
    "In this example, we enjoy the luxury of already knowing the true underlying model *and* the true values its parameters (in this case, $m=2$ and $c=3.5$). We also choose a density and uncertainty of measurements to give a clear picture of the underlying model. The real world is rarely so friendly, and we have to bear in mind that any model is only an approximation of the messiness of reality. For an example on how to perform this, check the article on [Model Comparison & Tension](../tension/page.html).\n",
    "\n",
    "In the cell below, `ebar` and `scatter` determine the average and spread of the size of errorbars in our data-points using a [Poisson Distribution](https://en.wikipedia.org/wiki/Poisson_distribution). This sort of distribution is common in astronomy, as it's associated with count-based events like measuring flux from counting of photons."
   ]
  },
  {
   "cell_type": "code",
   "execution_count": 2,
   "id": "422b5d4b-b9fc-44b2-b89c-6eff2ceb1f52",
   "metadata": {},
   "outputs": [
    {
     "data": {
      "image/png": "[encoded data removed]",
      "text/plain": [
       "<Figure size 640x480 with 1 Axes>"
      ]
     },
     "metadata": {},
     "output_type": "display_data"
    }
   ],
   "source": [
    "# Model 'truth' parameters\n",
    "m_true = 2\n",
    "c_true = 3.5\n",
    "\n",
    "#----------------------------\n",
    "# Data generation\n",
    "ebar, escatter = 1.5, 10 # Average & spread of error bar\n",
    "\n",
    "np.random.seed(123) # Fix the random seed so results are consistent across different examples\n",
    "X = np.linspace(0,10,32)\n",
    "E = np.random.poisson(lam=escatter, size=len(X)) / escatter * ebar\n",
    "Y = m_true*X + c_true + E*np.random.normal(size=len(X)) # Linear rel /w random noise based on 'E'\n",
    "\n",
    "#--------------\n",
    "# Plotting\n",
    "plt.figure()\n",
    "plt.errorbar(X,Y,E,fmt='none', capsize=2, label='Measurements')\n",
    "plt.axline( [0,c_true], slope=m_true, c='k', ls='--', label='True Relationship')\n",
    "plt.legend(loc='best')\n",
    "plt.xlabel(\"X\"), plt.ylabel(\"Y\")\n",
    "plt.grid()\n",
    "plt.show()"
   ]
  },
  {
   "cell_type": "markdown",
   "id": "f04e8892-c005-46b5-a15c-e049efe2f7d1",
   "metadata": {},
   "source": [
    "Now we can start using NumPyro to try and recover the $m$ and $c$ from these measurements. Our measurements here are _uncorrelated_, and so our test of \"goodness of fit\" for some guess at the parameters is:\n",
    "\n",
    "\\begin{equation}\n",
    "    \\mathcal{L}(m,c \\vert y_i) = \\exp \\left(-\\frac{\\chi^2}{2} \\right) =\\exp \\left(  -\\frac{1}{2} \\sum_i{\\left(\\frac{y_i-(m*x_i+c)}{E_i}\\right)^2} \\right)\n",
    "\\end{equation}\n",
    "\n",
    "And this likelihood is modulated by our prior knowledge about $m$ and $c$. In a simple case like this, we can just set these to be sufficiently vague, e.g. a broad uniform distribution.\n",
    "\n",
    "\\begin{eqnarray}\n",
    "    m & \\sim & U(-5,5)\\\\ \n",
    "    c & \\sim & U(-10,10)\n",
    "\\end{eqnarray}\n",
    "\n",
    "Making a NumPyro model that encodes this model is surprisingly simple, and can be done in only a few lines of code:"
   ]
  },
  {
   "cell_type": "code",
   "execution_count": 3,
   "id": "e9eb66db-d015-4727-b025-335eca06d9b9",
   "metadata": {},
   "outputs": [],
   "source": [
    "def model(X,Y,E):\n",
    "    m = numpyro.sample(\"m\", numpyro.distributions.Uniform(-5,5))   # prior on m\n",
    "    c = numpyro.sample(\"c\", numpyro.distributions.Uniform(-10,10)) # Prior on c\n",
    "\n",
    "    with numpyro.plate('data', len(X)):\n",
    "        y_model = m*X + c\n",
    "        numpyro.sample('y', numpyro.distributions.Normal(y_model,E), obs = Y)"
   ]
  },
  {
   "cell_type": "markdown",
   "id": "00dcbf18-c0b7-4ff3-956d-65762bac691c",
   "metadata": {},
   "source": [
    "Though written as a python function, `model(X,Y,E)` doesn't necessarily work like one, e.g. we don't \"return\" a likelihood. Instead, each `numpyro.sample` statement implies an effect on the likelihood:\n",
    "\n",
    "*  The first two lines describe our prior knowledge about $m$ and $c$:\n",
    "    *  The first argument, e.g. `\"m\"` is the \"site name\", the unique name that NumPyro will internally recognise this variable as and return its results as\n",
    "    *  The python-like variable name `m` on the left hand side is only for using that variable within the function, like we do when we calculate `y_model`\n",
    "*  The 'plate' describes the way we sweep over the data-points in $\\sum_i(y_i-y_{model})$.\n",
    "    *  Everything created or called inside the plate is implicitly vectorized where possible, e.g. calling `X` when calculating `y_model` implicitly means `X[i]`\n",
    "    *  The sample `y` follows a normal distribution $y\\sim~N(y_{model},E)$, representing our uncorrelated measurements, and the `obs=Y` means that this distribution is being compared to the measurement `Y[i]`\n",
    "    *  The sample `y` doesn't have a name on the LHS because we don't use it to do any more calculations\n",
    "\n",
    "The `plate` object in NumPyro can be a little un-intuitive because of the way it draws from vectors without stating so outright. To make things clearer, the following model would return exactly the same results, though not as cleanly:"
   ]
  },
  {
   "cell_type": "code",
   "execution_count": 4,
   "id": "b0eb1a0a-01fd-4620-85fa-6baca4cb9535",
   "metadata": {},
   "outputs": [
    {
     "name": "stdout",
     "output_type": "stream",
     "text": [
      " \n"
     ]
    }
   ],
   "source": [
    "%%script echo \" \" \n",
    "#Cell for demonstration only. Above line makes sure it doesn't run\n",
    "\n",
    "def model(X,Y,E):\n",
    "    m = numpyro.sample('m', numpyro.distributions.Uniform(-5,5)) # prior on m\n",
    "    c = numpyro.sample('c', numpyro.distributions.Uniform(-5,5)) # Prior on c\n",
    "\n",
    "    y_model = m*X + c\n",
    "    \n",
    "    for i in range(len(X)):\n",
    "        numpyro.sample('y_%i' %i, numpyro.distributions.Normal(y_model[i], E[i]), obs=Y[i])"
   ]
  },
  {
   "cell_type": "markdown",
   "id": "38056f87-f3f6-4570-b8f1-e4b5872b587c",
   "metadata": {},
   "source": [
    "If you have `graphviz` installed, (e.g. via `conda install -c conda-forge pygraphviz`), NumPyro can automatically render a [graph of the model](https://en.wikipedia.org/wiki/Graphical_model#Bayesian_network) to help visualize it and confirm that everything's set up properly. This is called with:"
   ]
  },
  {
   "cell_type": "code",
   "execution_count": 5,
   "id": "92e2c68b-50ce-45e6-b965-7e64831d8b74",
   "metadata": {},
   "outputs": [
    {
     "data": {
      "image/svg+xml": [
       "<?xml version=\"1.0\" encoding=\"UTF-8\" standalone=\"no\"?>\n",
       "<!DOCTYPE svg PUBLIC \"-//W3C//DTD SVG 1.1//EN\"\n",
       " \"http://www.w3.org/Graphics/SVG/1.1/DTD/svg11.dtd\">\n",
       "<!-- Generated by graphviz version 2.50.0 (0)\n",
       " -->\n",
       "<!-- Pages: 1 -->\n",
       "<svg width=\"134pt\" height=\"155pt\"\n",
       " viewBox=\"0.00 0.00 134.00 155.00\" xmlns=\"http://www.w3.org/2000/svg\" xmlns:xlink=\"http://www.w3.org/1999/xlink\">\n",
       "<g id=\"graph0\" class=\"graph\" transform=\"scale(1 1) rotate(0) translate(4 151)\">\n",
       "<polygon fill=\"white\" stroke=\"transparent\" points=\"-4,4 -4,-151 130,-151 130,4 -4,4\"/>\n",
       "<g id=\"clust1\" class=\"cluster\">\n",
       "<title>cluster_data</title>\n",
       "<polygon fill=\"none\" stroke=\"black\" points=\"28,-8 28,-83 98,-83 98,-8 28,-8\"/>\n",
       "<text text-anchor=\"middle\" x=\"74\" y=\"-15.8\" font-family=\"Times,serif\" font-size=\"14.00\">data</text>\n",
       "</g>\n",
       "<!-- m -->\n",
       "<g id=\"node1\" class=\"node\">\n",
       "<title>m</title>\n",
       "<ellipse fill=\"white\" stroke=\"black\" cx=\"27\" cy=\"-129\" rx=\"27\" ry=\"18\"/>\n",
       "<text text-anchor=\"middle\" x=\"27\" y=\"-125.3\" font-family=\"Times,serif\" font-size=\"14.00\">m</text>\n",
       "</g>\n",
       "<!-- y -->\n",
       "<g id=\"node3\" class=\"node\">\n",
       "<title>y</title>\n",
       "<ellipse fill=\"grey\" stroke=\"black\" cx=\"63\" cy=\"-57\" rx=\"27\" ry=\"18\"/>\n",
       "<text text-anchor=\"middle\" x=\"63\" y=\"-53.3\" font-family=\"Times,serif\" font-size=\"14.00\">y</text>\n",
       "</g>\n",
       "<!-- m&#45;&gt;y -->\n",
       "<g id=\"edge1\" class=\"edge\">\n",
       "<title>m&#45;&gt;y</title>\n",
       "<path fill=\"none\" stroke=\"black\" d=\"M35.35,-111.76C39.71,-103.28 45.15,-92.71 50.04,-83.2\"/>\n",
       "<polygon fill=\"black\" stroke=\"black\" points=\"53.23,-84.64 54.7,-74.15 47.01,-81.44 53.23,-84.64\"/>\n",
       "</g>\n",
       "<!-- c -->\n",
       "<g id=\"node2\" class=\"node\">\n",
       "<title>c</title>\n",
       "<ellipse fill=\"white\" stroke=\"black\" cx=\"99\" cy=\"-129\" rx=\"27\" ry=\"18\"/>\n",
       "<text text-anchor=\"middle\" x=\"99\" y=\"-125.3\" font-family=\"Times,serif\" font-size=\"14.00\">c</text>\n",
       "</g>\n",
       "<!-- c&#45;&gt;y -->\n",
       "<g id=\"edge2\" class=\"edge\">\n",
       "<title>c&#45;&gt;y</title>\n",
       "<path fill=\"none\" stroke=\"black\" d=\"M90.65,-111.76C86.29,-103.28 80.85,-92.71 75.96,-83.2\"/>\n",
       "<polygon fill=\"black\" stroke=\"black\" points=\"78.99,-81.44 71.3,-74.15 72.77,-84.64 78.99,-81.44\"/>\n",
       "</g>\n",
       "</g>\n",
       "</svg>\n"
      ],
      "text/plain": [
       "<graphviz.graphs.Digraph at 0x7f140b6dd310>"
      ]
     },
     "execution_count": 5,
     "metadata": {},
     "output_type": "execute_result"
    }
   ],
   "source": [
    "numpyro.render_model(model, model_args=(X,Y,E))"
   ]
  },
  {
   "cell_type": "markdown",
   "id": "639a8e53-4aba-46b8-83d9-750578778c74",
   "metadata": {},
   "source": [
    "## Doing MCMC in NumPyro\n",
    "\n",
    "Our NumPyro model encodes all of our probability distributions and data, now we need to actually _do_ something with it. In 90% of cases, that \"something\" will be constraining parameters with some kind of [MCMC](https://en.wikipedia.org/wiki/Markov_chain_Monte_Carlo) algorithm. In NumPyro, we do this by creating an `MCMC` object and then triggering it with the `.run` method:"
   ]
  },
  {
   "cell_type": "code",
   "execution_count": 6,
   "id": "2fc4a8c7-de48-46b4-9ff9-9cff598b8661",
   "metadata": {},
   "outputs": [
    {
     "name": "stderr",
     "output_type": "stream",
     "text": [
      "No GPU/TPU found, falling back to CPU. (Set TF_CPP_MIN_LOG_LEVEL=0 and rerun for more info.)\n",
      "sample: 100%|█████████| 5500/5500 [00:02<00:00, 2688.19it/s, 7 steps of size 2.95e-01. acc. prob=0.93]\n"
     ]
    }
   ],
   "source": [
    "sampler = numpyro.infer.MCMC(numpyro.infer.NUTS(model), \n",
    "                             num_chains  = 1, \n",
    "                             num_samples = 5000, \n",
    "                             num_warmup  = 500)\n",
    "sampler.run(jax.random.PRNGKey(1), X,Y,E)"
   ]
  },
  {
   "cell_type": "markdown",
   "id": "9d646ee5-237c-4180-89a4-dd746137d525",
   "metadata": {},
   "source": [
    "When the `numpyro.infer.MCMC` object is created, we feed it a `numpyro.infer.NUTS` object, which in turn wraps around our probabilistic model. This argument determines what kind of MCMC sampler we use (in this case the No U-Turn Sampler (NUTS)). You can think of the `.infer.NUTS` sampler as being the actual machine for sampling parameter space, and the `.infer.MCMC` object as being a \"handler\" that controls it.  If you want to use a different sampler (e.g. the crude but less expensive [sample adaptive](https://num.pyro.ai/en/latest/mcmc.html#numpyro.infer.sa.SA) sampler), we can swap this first argument out. You can find a list of all [NumPyro's standard samplers](https://num.pyro.ai/en/latest/mcmc.html) in its documentation.\n",
    "\n",
    "Because MCMC is an inherently random process, we need to feed it a random seed to determine how its stochastic elements are generated. This takes the form of the `jax.random.PRNGKey(i)` argument in `sampler.run()`. You might notice that we also feed the data, `X,Y` and `E` into the sampler when running. This means that the _same MCMC object can be used for fitting multiple data sets_."
   ]
  },
  {
   "cell_type": "markdown",
   "id": "8032a8f5-faf7-4736-9d82-ae6a33cc5ecc",
   "metadata": {},
   "source": [
    "Once the sampler has finished running, we just extract its completed MCMC chains using `.get_samples()`, which returns as a dictionary keyed by the NumPyro site names we defined in our model. We can then pass these directly to a chainconsumer object. "
   ]
  },
  {
   "cell_type": "code",
   "execution_count": 7,
   "id": "85eb4ae1-1fae-490a-8f04-0b4761fa17ac",
   "metadata": {},
   "outputs": [
    {
     "data": {
      "image/png": "[encoded data removed]",
      "text/plain": [
       "<Figure size 300x300 with 4 Axes>"
      ]
     },
     "metadata": {},
     "output_type": "display_data"
    }
   ],
   "source": [
    "results = sampler.get_samples() # Dictionary of MCMC samples\n",
    "C = chainconsumer.ChainConsumer()\n",
    "C.add_chain(results, name = \"MCMC Results\")\n",
    "C.plotter.plot(\n",
    "    extents={'m': [-5,5], 'c':[-10,10]}, \n",
    "    truth = {'m':m_true, 'c':c_true})\n",
    "\n",
    "plt.show()"
   ]
  },
  {
   "cell_type": "markdown",
   "id": "d710138a-fa9f-4c9a-a325-c70284435ad6",
   "metadata": {},
   "source": [
    "Small adjustments to this simple case will cover most basic cases of using NumPyro, but you can still find yourself limited in two main ways:\n",
    "1. Raw MCMC outputs are un-normalized, and so they don't tell us anything about how well the model performs, only how well it constrains parameters. For that, we need to use some kind of [model comparison](../../03_stats/02_suspiciousness/page.html) technique.\n",
    "2. Most MCMC samplers (including NUTS) fail in multimodal distributions. NUTS fails when there is more than one 'island' of probability, and fails entirely if the likelihood function is 'bumpy' in between these island. In these cases, we need to either [post-process](../03_mcmcsamplers/page.html) our chains or use a more robust sampler like [nested sampling](../04_nestedsampling/page.html)."
   ]
  }
 ],
 "metadata": {
  "kernelspec": {
   "display_name": "Python 3 (ipykernel)",
   "language": "python",
   "name": "python3"
  },
  "language_info": {
   "codemirror_mode": {
    "name": "ipython",
    "version": 3
   },
   "file_extension": ".py",
   "mimetype": "text/x-python",
   "name": "python",
   "nbconvert_exporter": "python",
   "pygments_lexer": "ipython3",
   "version": "3.11.4"
  }
 },
 "nbformat": 4,
 "nbformat_minor": 5
}
