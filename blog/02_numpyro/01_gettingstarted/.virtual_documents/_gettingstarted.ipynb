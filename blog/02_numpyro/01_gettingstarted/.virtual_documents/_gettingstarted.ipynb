








# JAX / NumPyro Imports
import jax, numpyro
import jax.numpy as jnp

# Plotting & Utilities
import matplotlib.pyplot as plt
import numpy as np
import chainconsumer





# Model 'truth' parameters
m_true = 2
c_true = 3.5

#----------------------------
# Data generation
ebar, escatter = 1.5, 10 # Average & spread of error bar

np.random.seed(123) # Fix the random seed so results are consistent across different examples
X = np.linspace(0,10,32)
E = np.random.poisson(lam=escatter, size=len(X)) / escatter * ebar
Y = m_true*X + c_true + E*np.random.normal(size=len(X)) # Linear rel /w random noise based on 'E'

#--------------
# Plotting
plt.figure()
plt.errorbar(X,Y,E,fmt='none', capsize=2, label='Measurements')
plt.axline( [0,c_true], slope=m_true, c='k', ls='--', label='True Relationship')
plt.legend(loc='best')
plt.xlabel("X"), plt.ylabel("Y")
plt.grid()
plt.show()





def model(X,Y,E):
    m = numpyro.sample("m", numpyro.distributions.Uniform(-5,5))   # prior on m
    c = numpyro.sample("c", numpyro.distributions.Uniform(-10,10)) # Prior on c

    with numpyro.plate('data', len(X)):
        y_model = m*X + c
        numpyro.sample('y', numpyro.distributions.Normal(y_model,E), obs = Y)





%%script echo " " 
#Cell for demonstration only. Above line makes sure it doesn't run

def model(X,Y,E):
    m = numpyro.sample('m', numpyro.distributions.Uniform(-5,5)) # prior on m
    c = numpyro.sample('c', numpyro.distributions.Uniform(-5,5)) # Prior on c

    y_model = m*X + c
    
    for i in range(len(X)):
        numpyro.sample('y_%i' %i, numpyro.distributions.Normal(y_model[i], E[i]), obs=Y[i])





numpyro.render_model(model, model_args=(X,Y,E))





sampler = numpyro.infer.MCMC(numpyro.infer.NUTS(model), 
                             num_chains  = 1, 
                             num_samples = 5000, 
                             num_warmup  = 500)
sampler.run(jax.random.PRNGKey(1), X,Y,E)








results = sampler.get_samples() # Dictionary of MCMC samples
C = chainconsumer.ChainConsumer()
C.add_chain(results, name = "MCMC Results")
C.plotter.plot(
    extents={'m': [-5,5], 'c':[-10,10]}, 
    truth = {'m':m_true, 'c':c_true})

plt.show()



