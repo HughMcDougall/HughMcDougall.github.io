


# REDACT
import numpy as np
from chainconsumer import ChainConsumer
import matplotlib.pyplot as plt

import jax
import jax.numpy as jnp
import numpyro
from matplotlib.patches import Ellipse

#----------
VERBOSE = False

import warnings
warnings.filterwarnings("ignore")





# REDACT
def gen_data(Ndata = 10, seed = 12, true_params = {'m':1,'c':0}, escatter=1, ebar = 1, Xrange= {-10,10}):
    np.random.seed(seed)
    m, c = true_params['m'], true_params['c']
    X = np.linspace(Xrange[0], Xrange[1], Ndata) 
    E = (np.random.poisson(lam=escatter, size=len(X))+1) / escatter * ebar + 0.01
    Y = m * X + c + E*np.random.normal(size=len(X)) # Linear rel /w random noise based on 'E'  
  
    return(X, Y, E) 

XA, YA, EA = gen_data(true_params = {'m':1,'c':0}, Xrange = [-10,5])
XB, YB, EB = gen_data(true_params = {'m':1.7,'c':-0.5}, Xrange = [-5,10])
XAB, YAB, EAB = np.concatenate([XA,XB]), np.concatenate([YA,YB]), np.concatenate([EA,EB])

fig, ax = plt.subplots(1,2, sharex=True, sharey=True, figsize=(10,4))
ax[0].errorbar(XA,YA,EA, fmt = 'none', c='r', capsize=5, label = "Data Set A")
ax[0].errorbar(XB,YB,EB, fmt = 'none', c='b', capsize=5, label = "Data Set B")
ax[1].errorbar(XAB,YAB,EAB, fmt = 'none', c='k', capsize=5, label = "Both Data Sets")
ax[0].grid()
ax[1].grid()

ax[0].set_title("Individual Data Sets")
ax[1].set_title("Both Data Sets")

ax[0].legend()


fig.supxlabel('x')
fig.supylabel('y')
fig.tight_layout()
plt.show()





# REDACT
# Chain processing Code
def get_KL(chain, poten, prior):
    Z = get_Z(chain, poten, prior)
    M, C = chain['m'], chain['c']
    m_mu, m_sig = prior['m']
    c_mu, c_sig = prior['c']
    log_like = -poten - np.log(Z)
    priorfunc = np.exp(-1/2 * (((M-m_mu)/m_sig)**2 + ((C-c_mu)/c_sig)**2)) / (2*np.pi) / c_sig / m_sig

    out = (np.log(priorfunc) - log_like).mean()
    return(-out)

def get_Z(chain, poten, prior):
    M, C = chain['m'], chain['c']
    
    COV = np.cov(np.stack([M,C]))
    sig1, sig2 = np.sqrt(np.linalg.eig(COV).eigenvalues)
    
    out = np.exp(-poten).max() * (sig1*sig2 * 2*np.pi)
    return(out)


# REDACT
# NumPyro Model & Default Priors

default_priors = {'m': [0.0,10],
                 'c': [0.0,20] }

def model(x,y,e, priors = default_priors):
    m_mu, m_sig = priors['m']
    c_mu, c_sig = priors['c']
    m = numpyro.sample('m', numpyro.distributions.Normal(m_mu,m_sig))
    c = numpyro.sample('c', numpyro.distributions.Normal(c_mu,c_sig))
    y_pred = m*x+c
    with numpyro.plate('data',len(x)):
        numpyro.sample('y', numpyro.distributions.Normal(y,e), obs=y_pred)


# REDACT
# Calculation for prior range 1
sampler = numpyro.infer.MCMC(numpyro.infer.NUTS(model),
                             num_samples = 100000,
                             num_warmup = 500,
                             num_chains = 1,
                             progress_bar = False)

if VERBOSE: print("Doing Set A")
sampler.run(jax.random.PRNGKey(1), XA,YA,EA, extra_fields = ("potential_energy",))
res_A = sampler.get_samples()
poten_A = sampler.get_extra_fields()['potential_energy']
D_A = get_KL(res_A, poten_A, default_priors)
Z_A = get_Z(res_A, poten_A, default_priors)

if VERBOSE: print("Doing Set B")
sampler.run(jax.random.PRNGKey(1), XB,YB,EB, extra_fields = ("potential_energy",))
res_B = sampler.get_samples()
poten_B = sampler.get_extra_fields()['potential_energy']
D_B = get_KL(res_B, poten_B, default_priors)
Z_B = get_Z(res_B, poten_B, default_priors)

if VERBOSE: print("Doing Both Sets")
sampler.run(jax.random.PRNGKey(1), XAB,YAB,EAB, extra_fields = ("potential_energy",))
res_AB = sampler.get_samples()
poten_AB = sampler.get_extra_fields()['potential_energy']
D_AB = get_KL(res_AB, poten_AB, default_priors)
Z_AB = get_Z(res_AB, poten_AB, default_priors)
if VERBOSE: print("Done")

rel_inf = D_A+D_B - D_AB
Zrat = Z_A*Z_B / Z_AB


# REDACT
# Calculation for prior range 2
expanded_priors = {'m':[0.0,100.0],
                      'c': [0.0,200.0] 
}

if VERBOSE: print("Doing Set A")
sampler.run(jax.random.PRNGKey(1), XA,YA,EA, extra_fields = ("potential_energy",), priors=expanded_priors)
res_A2 = sampler.get_samples()
poten_A2 = sampler.get_extra_fields()['potential_energy']
D_A2 = get_KL(res_A2, poten_A2, expanded_priors)
Z_A2 = get_Z(res_A2, poten_A2, expanded_priors)

if VERBOSE: print("Doing Set B")
sampler.run(jax.random.PRNGKey(1), XB,YB,EB, extra_fields = ("potential_energy",), priors=expanded_priors)
res_B2 = sampler.get_samples()
poten_B2 = sampler.get_extra_fields()['potential_energy']
D_B2 = get_KL(res_B2, poten_B2, expanded_priors)
Z_B2 = get_Z(res_B2, poten_B2, expanded_priors)

if VERBOSE: print("Doing Both Sets")
sampler.run(jax.random.PRNGKey(1), XAB,YAB,EAB, extra_fields = ("potential_energy",), priors=expanded_priors)
res_AB2 = sampler.get_samples()
poten_AB2 = sampler.get_extra_fields()['potential_energy']
D_AB2 = get_KL(res_AB2, poten_AB2, expanded_priors)
Z_AB2 = get_Z(res_AB2, poten_AB2, expanded_priors)

if VERBOSE: print("Done")

rel_inf2 = D_A2+D_B2 - D_AB2

Zrat2 = Z_A2*Z_B2 / Z_AB2


# REDACT
# Corner plot for prior 1
C = ChainConsumer()
C.add_chain(res_A, name = "Data Set A")
C.add_chain(res_B, name = "Data Set B")
C.add_chain(res_AB, name = "Both Data Sets")
C.plotter.plot(figsize=(5,5))
plt.show()

if VERBOSE: print("Evidence Ratio: %.4e" %Zrat)
if VERBOSE: print("Relative Information Gain: %.4f" %(rel_inf))











# REDACT
# Corner Plot 2
C2 = ChainConsumer()
C2.add_chain(res_A2, name = "Data Set A")
C2.add_chain(res_B2, name = "Data Set B")
C2.add_chain(res_AB2, name = "Both Data Sets")

if VERBOSE: print("Evidence Ratio: %.4e" %Zrat2)
if VERBOSE: print("Relative Information Gain: %.4f" %(rel_inf2))


# REDACT
# Prior boundary plot 1
fig, ax = plt.subplots(1,2, figsize=(10,5))

#-------------------------------
C.plotter.plot_contour(ax[0], 'c', 'm')
ellipse = Ellipse(xy=(default_priors['c'][0], default_priors['m'][0]), width=default_priors['c'][1], height=default_priors['m'][1], 
                        edgecolor='k', ls='--', fc='grey', alpha = 0.25, lw=2, label="1 sigma prior width", zorder=-10)

ellipse = Ellipse(xy=(default_priors['c'][0], default_priors['m'][0]), width=default_priors['c'][1], height=default_priors['m'][1], 
                        edgecolor='k', ls='--', fc='grey', alpha = 0.25, lw=2, label="1 sigma prior width", zorder=-10)
ax[0].add_patch(ellipse)
ax[0].set_title("Normal Priors, $\mathcal{R} = %0.2f$" %Zrat)

#-------------------------------
C2.plotter.plot_contour(ax[1], 'c', 'm')
ellipse = Ellipse(xy=(expanded_priors['c'][0], expanded_priors['m'][0]), width=expanded_priors['c'][1], height=expanded_priors['m'][1], 
                        edgecolor='k', ls='--', fc='grey', alpha = 0.25, lw=2, label="1 sigma prior width", zorder=-10)
ax[1].add_patch(ellipse)
ax[1].set_title("Expanded Priors, $\mathcal{R} = %0.2f$" %Zrat2)

ax[0].grid( alpha=0.5, zorder=-1)

ax[1].set_xticks(np.arange(-200/2,200/2,5), minor=True,)
ax[1].set_yticks(np.arange(-100/2,100/2,2), minor=True,)
ax[1].grid(which='minor', zorder=-1, alpha=0.5)

fig.supxlabel('$c$')
fig.supylabel('$m$')
plt.show()

















# REDACT
from scipy.stats import norm

X = np.linspace(-4,4, 1024)
mu1, mu2 = -0.5, 1.9
sig1, sig2 = 1.1, 0.6

LA, LB = norm.pdf((X-mu1)/sig1), norm.pdf((X-mu2)/sig2)
LAB = LA*LB

fig, ax = plt.subplots(2,1, figsize=(8,4), sharex=True)
ax[0].plot(X,LA, label="$\mathcal{L}_A(x)$", c='tab:blue')
ax[0].plot(X,LB, label="$\mathcal{L}_B(x)$", c='tab:green')
ax[1].plot(X,LAB, label="$\mathcal{L}_{AB}(x)$", c='tab:red')

ax[0].legend()
ax[1].legend()

ax[0].set_yticks([])
ax[1].set_yticks([])

ax[0].grid()
ax[1].grid()

plt.show()


















